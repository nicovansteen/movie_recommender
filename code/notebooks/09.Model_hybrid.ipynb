{
 "cells": [
  {
   "metadata": {
    "ExecuteTime": {
     "end_time": "2025-06-07T15:40:05.280149Z",
     "start_time": "2025-06-07T15:40:05.272878Z"
    }
   },
   "cell_type": "code",
   "source": [
    "import os\n",
    "import ast\n",
    "import pandas as pd\n",
    "import numpy as np\n",
    "import joblib\n",
    "from sklearn.feature_extraction.text import TfidfVectorizer\n",
    "from sklearn.metrics.pairwise import linear_kernel, cosine_similarity\n",
    "from surprise import Dataset, Reader, SVD\n",
    "from surprise.model_selection import train_test_split"
   ],
   "id": "50e379a5f5519eab",
   "outputs": [],
   "execution_count": 2
  },
  {
   "metadata": {
    "ExecuteTime": {
     "end_time": "2025-06-07T15:41:11.022515Z",
     "start_time": "2025-06-07T15:41:00.631363Z"
    }
   },
   "cell_type": "code",
   "source": [
    "# ========= LOAD DATA =========\n",
    "DATA_DIR = os.path.join('..', '..', 'data', 'cleaned')\n",
    "JOBLIB_DIR = os.path.join('..', '..', 'data', 'cleaned', 'joblib_dataframes')\n",
    "\n",
    "movies = joblib.load(os.path.join(JOBLIB_DIR, 'df_final.joblib'))\n",
    "ratings = joblib.load(os.path.join(JOBLIB_DIR, 'df_final_matrix.joblib'))"
   ],
   "id": "a36eb8c1887fb53",
   "outputs": [],
   "execution_count": 4
  },
  {
   "metadata": {
    "ExecuteTime": {
     "end_time": "2025-06-07T15:41:15.516652Z",
     "start_time": "2025-06-07T15:41:15.440158Z"
    }
   },
   "cell_type": "code",
   "source": [
    "# ========= CLASS =========\n",
    "class HybridMovieRecommender:\n",
    "    def __init__(self):\n",
    "        # Load movies and metadata\n",
    "        self.movies = movies\n",
    "        self.ratings = ratings\n",
    "\n",
    "        # Decode metadata IDs into strings\n",
    "        self._decode_metadata()\n",
    "\n",
    "        # Build combined features text\n",
    "        self._build_combined_features()\n",
    "\n",
    "        # Build TF-IDF matrix and cosine similarity matrix for content-based\n",
    "        self._build_tfidf()\n",
    "\n",
    "        # Prepare collaborative filtering data\n",
    "        self.df_ratings = joblib.load(os.path.join(JOBLIB_DIR, 'df_final_matrix.joblib'))\n",
    "\n",
    "        # Reduce size for speed (optional)\n",
    "        self.df_ratings = self.df_ratings.iloc[:500, :500]\n",
    "\n",
    "        # Clean ratings data\n",
    "        self.df_ratings = self.df_ratings.apply(pd.to_numeric, errors='coerce').fillna(0)\n",
    "\n",
    "        # Prepare Surprise dataset and train SVD model\n",
    "        self._prepare_surprise_model()\n",
    "\n",
    "        # Popularity: average ratings from ratings dataframe\n",
    "        self._compute_popularity()\n",
    "\n",
    "        # Create mappings for quick lookup\n",
    "        self.title_to_index = pd.Series(self.movies.index, index=self.movies['title'])\n"
   ],
   "id": "3a10102ca176fb4d",
   "outputs": [],
   "execution_count": 5
  },
  {
   "metadata": {
    "ExecuteTime": {
     "end_time": "2025-06-07T15:41:22.089312Z",
     "start_time": "2025-06-07T15:41:22.077354Z"
    }
   },
   "cell_type": "code",
   "source": [
    "    def _decode_metadata(self):\n",
    "        def decode_ids(id_input, mapping_dict):\n",
    "            try:\n",
    "                if isinstance(id_input, str):\n",
    "                    id_list = ast.literal_eval(id_input)\n",
    "                elif isinstance(id_input, (int, np.integer)):\n",
    "                    id_list = [id_input]\n",
    "                elif isinstance(id_input, (list, np.ndarray)):\n",
    "                    id_list = id_input\n",
    "                else:\n",
    "                    return ''\n",
    "                return '|'.join([mapping_dict.get(str(i), f'Unknown_{i}') for i in id_list])\n",
    "            except Exception:\n",
    "                return ''\n",
    "\n",
    "        for name, mapping in self.meta_maps.items():\n",
    "            self.movies[f'{name}_str'] = self.movies[name].apply(lambda x: decode_ids(x, mapping))\n",
    "\n",
    "    def _build_combined_features(self):\n",
    "        existing_cols = [f'{k}_str' for k in self.meta_maps.keys() if f'{k}_str' in self.movies.columns]\n",
    "        self.movies['combined_features'] = self.movies[existing_cols].fillna('').agg('|'.join, axis=1)\n",
    "\n",
    "    def _build_tfidf(self):\n",
    "        self.tfidf = TfidfVectorizer(token_pattern=r'[^|]+')\n",
    "        self.tfidf_matrix = self.tfidf.fit_transform(self.movies['combined_features'])\n",
    "        self.cosine_sim = linear_kernel(self.tfidf_matrix, self.tfidf_matrix)\n",
    "\n",
    "    def _prepare_surprise_model(self):\n",
    "        # Convert index name for melt\n",
    "        self.df_ratings.index.name = 'userId'\n",
    "        df_ratings_long = self.df_ratings.reset_index().melt(id_vars='userId', var_name='imdb_id', value_name='rating')\n",
    "        df_ratings_long = df_ratings_long[df_ratings_long['rating'] > 0]\n",
    "        df_ratings_long['userId'] = df_ratings_long['userId'].astype(str)\n",
    "        df_ratings_long['imdb_id'] = df_ratings_long['imdb_id'].astype(str)\n",
    "        self.df_ratings_long = df_ratings_long\n",
    "\n",
    "        reader = Reader(rating_scale=(df_ratings_long['rating'].min(), df_ratings_long['rating'].max()))\n",
    "        data = Dataset.load_from_df(df_ratings_long[['userId', 'imdb_id', 'rating']], reader)\n",
    "        trainset, testset = train_test_split(data, test_size=0.2, random_state=42)\n",
    "\n",
    "        self.algo = SVD(n_factors=50, n_epochs=20, random_state=42)\n",
    "        self.algo.fit(trainset)\n",
    "\n",
    "    def _compute_popularity(self):\n",
    "        self.avg_ratings = self.df_ratings_long.groupby('imdb_id')['rating'].mean()\n",
    "        self.popularity_max = self.avg_ratings.max()\n",
    "\n",
    "    def content_recommendations(self, title, top_n=10):\n",
    "        if title not in self.title_to_index:\n",
    "            return [\"Title not found.\"]\n",
    "        idx = self.title_to_index[title]\n",
    "        sim_scores = list(enumerate(self.cosine_sim[idx]))\n",
    "        sim_scores = sorted(sim_scores, key=lambda x: x[1], reverse=True)\n",
    "        top_indices = [i for i, _ in sim_scores[1:top_n+1]]\n",
    "        return self.movies['title'].iloc[top_indices].tolist()\n",
    "\n",
    "    def svd_recommendations(self, user_id, top_n=10):\n",
    "        user_id = str(user_id)\n",
    "        seen_movies = set(self.df_ratings_long[self.df_ratings_long['userId'] == user_id]['imdb_id'])\n",
    "        all_movies = set(self.movies['imdb_id'])\n",
    "        unseen_movies = all_movies - seen_movies\n",
    "        predictions = [self.algo.predict(user_id, movie_id) for movie_id in unseen_movies]\n",
    "        top_preds = sorted(predictions, key=lambda x: x.est, reverse=True)[:top_n]\n",
    "        recommended_titles = []\n",
    "        for pred in top_preds:\n",
    "            title = self.movies[self.movies['imdb_id'] == pred.iid]['title']\n",
    "            recommended_titles.append(title.values[0] if not title.empty else \"Unknown Title\")\n",
    "        return recommended_titles\n"
   ],
   "id": "3155abfe172c55f4",
   "outputs": [],
   "execution_count": 6
  },
  {
   "metadata": {
    "ExecuteTime": {
     "end_time": "2025-06-07T15:41:24.532866Z",
     "start_time": "2025-06-07T15:41:24.523771Z"
    }
   },
   "cell_type": "code",
   "source": [
    "    def hybrid_recommendations(self, user_id, movie_title=None, top_n=10,\n",
    "                               w_content=0.4, w_collab=0.4, w_pop=0.2):\n",
    "        candidates = set()\n",
    "        content_candidates = []\n",
    "        if movie_title and movie_title in self.title_to_index:\n",
    "            idx = self.title_to_index[movie_title]\n",
    "            sim_scores = list(enumerate(self.cosine_sim[idx]))\n",
    "            sim_scores = sorted(sim_scores, key=lambda x: x[1], reverse=True)\n",
    "            content_candidates = [(self.movies['imdb_id'].iloc[i], score) for i, score in sim_scores[1:50]]\n",
    "            candidates.update([c[0] for c in content_candidates])\n",
    "\n",
    "        user_str = str(user_id)\n",
    "        seen_movies = set(self.df_ratings_long[self.df_ratings_long['userId'] == user_str]['imdb_id'])\n",
    "        all_movies = set(self.movies['imdb_id'])\n",
    "        unseen_movies = all_movies - seen_movies\n",
    "\n",
    "        collab_preds = []\n",
    "        for movie_id in unseen_movies:\n",
    "            pred = self.algo.predict(user_str, movie_id)\n",
    "            collab_preds.append((movie_id, pred.est))\n",
    "        collab_preds.sort(key=lambda x: x[1], reverse=True)\n",
    "        collab_candidates = collab_preds[:50]\n",
    "        candidates.update([c[0] for c in collab_candidates])\n",
    "\n",
    "        combined_scores = []\n",
    "        collab_min = min(score for _, score in collab_candidates) if collab_candidates else 0\n",
    "        collab_max = max(score for _, score in collab_candidates) if collab_candidates else 1\n",
    "\n",
    "        for movie_id in candidates:\n",
    "            c_score = dict(content_candidates).get(movie_id, 0)\n",
    "\n",
    "            collab_raw = dict(collab_candidates).get(movie_id, 0)\n",
    "            collab_score = ((collab_raw - collab_min) / (collab_max - collab_min)\n",
    "                            if collab_max > collab_min else 0)\n",
    "\n",
    "            p_score = self.avg_ratings.get(movie_id, 0) / self.popularity_max if self.popularity_max > 0 else 0\n",
    "\n",
    "            hybrid_score = w_content * c_score + w_collab * collab_score + w_pop * p_score\n",
    "            combined_scores.append((movie_id, hybrid_score))\n",
    "\n",
    "        combined_scores.sort(key=lambda x: x[1], reverse=True)\n",
    "        recommended_ids = [movie_id for movie_id, _ in combined_scores[:top_n]]\n",
    "        recommended_titles = self.movies[self.movies['imdb_id'].isin(recommended_ids)]['title'].tolist()\n",
    "\n",
    "        return recommended_titles"
   ],
   "id": "88243d43922b6916",
   "outputs": [],
   "execution_count": 7
  },
  {
   "metadata": {},
   "cell_type": "code",
   "outputs": [],
   "execution_count": null,
   "source": [
    "if __name__ == '__main__':\n",
    "\n",
    "    recommender = HybridMovieRecommender(DATA_DIR, JOBLIB_DIR)\n",
    "\n",
    "    print(\"\\nContent-based recommendation based on movie:\")\n",
    "    print(recommender.content_recommendations(\"Bad Boys II\", top_n=5))\n",
    "\n",
    "    print(\"\\nSurprise collaborative recommendations based on user:\")\n",
    "    print(recommender.svd_recommendations(7, top_n=5))\n",
    "\n",
    "    print(50*'*')\n",
    "\n",
    "    print(\"\\nHybrid recommendations based on user and movie:\")\n",
    "    print(recommender.hybrid_recommendations(7, \"Bad Boys II\", top_n=5))\n",
    "\n",
    "    print(\"\\nOverall hybrid recommendations for one user:\")\n",
    "    print(recommender.hybrid_recommendations(7, None, top_n=5))\n",
    "\n",
    "    print(50*'*')"
   ],
   "id": "ccd9d2044e119d8e"
  }
 ],
 "metadata": {
  "kernelspec": {
   "display_name": "Python 3",
   "language": "python",
   "name": "python3"
  },
  "language_info": {
   "codemirror_mode": {
    "name": "ipython",
    "version": 2
   },
   "file_extension": ".py",
   "mimetype": "text/x-python",
   "name": "python",
   "nbconvert_exporter": "python",
   "pygments_lexer": "ipython2",
   "version": "2.7.6"
  }
 },
 "nbformat": 4,
 "nbformat_minor": 5
}
