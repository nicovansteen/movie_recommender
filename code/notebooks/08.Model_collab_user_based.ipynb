{
 "cells": [
  {
   "cell_type": "code",
   "execution_count": 2,
   "id": "initial_id",
   "metadata": {
    "ExecuteTime": {
     "end_time": "2025-06-07T16:01:11.270475800Z",
     "start_time": "2025-06-07T14:37:55.510210Z"
    }
   },
   "outputs": [],
   "source": [
    "import os\n",
    "import joblib\n",
    "import pandas as pd\n",
    "from sklearn.metrics.pairwise import cosine_similarity\n",
    "from surprise import Dataset, Reader, SVD\n",
    "from surprise.model_selection import train_test_split, cross_validate"
   ]
  },
  {
   "cell_type": "code",
   "execution_count": 3,
   "id": "568111c66b286648",
   "metadata": {
    "ExecuteTime": {
     "end_time": "2025-06-07T16:01:11.272070400Z",
     "start_time": "2025-06-07T15:58:50.923642Z"
    }
   },
   "outputs": [],
   "source": [
    "# ========= LOAD DATA =========\n",
    "\n",
    "DATA_DIR = os.path.join('..', '..', 'data', 'cleaned', 'joblib_dataframes')\n",
    "\n",
    "df_movies = joblib.load(os.path.join(DATA_DIR, 'df_final.joblib'))\n",
    "df_ratings = joblib.load(os.path.join(DATA_DIR, 'df_final_matrix.joblib'))\n",
    "\n",
    "# For quick testing, limit size\n",
    "df_ratings = df_ratings.iloc[:500, :500]\n",
    "\n",
    "# Convert all to numeric, coerce errors to NaN, then fill NaNs with 0 (assuming 0 = no rating)\n",
    "df_ratings = df_ratings.apply(pd.to_numeric, errors='coerce').fillna(0)"
   ]
  },
  {
   "cell_type": "code",
   "execution_count": 4,
   "id": "4f03a4bd29ae25bb",
   "metadata": {
    "ExecuteTime": {
     "end_time": "2025-06-07T16:01:11.272612800Z",
     "start_time": "2025-06-07T14:39:58.609421Z"
    }
   },
   "outputs": [
    {
     "name": "stdout",
     "output_type": "stream",
     "text": [
      "\n",
      "=== Weighted User-Based Collaborative Filtering (User 7) ===\n",
      "['Vertical Limit', 'High Fidelity', 'The Perfect Storm', 'U-571', 'Hanging Up']\n"
     ]
    }
   ],
   "source": [
    "# ========= COMPUTE USER-USER SIMILARITY =========\n",
    "\n",
    "user_sim = cosine_similarity(df_ratings)\n",
    "df_user_sim = pd.DataFrame(user_sim, index=df_ratings.index, columns=df_ratings.index)\n",
    "\n",
    "def recommend_for_user_weighted(user_id, top_n=5, top_k=5):\n",
    "    \"\"\"\n",
    "    Recommend movies to a user based on weighted ratings from top_k most similar users.\n",
    "\n",
    "    Parameters:\n",
    "        user_id (int): ID of the user for whom to recommend.\n",
    "        top_n (int): Number of movie recommendations to return.\n",
    "        top_k (int): Number of similar users to consider.\n",
    "\n",
    "    Returns:\n",
    "        list: Titles of recommended movies.\n",
    "    \"\"\"\n",
    "    if user_id not in df_user_sim.index:\n",
    "        return [\"User ID not found.\"]\n",
    "\n",
    "    # Get top_k most similar users (exclude the user itself)\n",
    "    sim_scores = df_user_sim.loc[user_id].drop(user_id).nlargest(top_k)\n",
    "\n",
    "    # Movies already rated by user\n",
    "    user_movies = set(df_ratings.loc[user_id][df_ratings.loc[user_id] > 0].index)\n",
    "\n",
    "    weighted_scores = pd.Series(dtype=float)\n",
    "\n",
    "    for sim_user, score in sim_scores.items():\n",
    "        sim_user_ratings = df_ratings.loc[sim_user]\n",
    "        # Select movies rated by sim_user but not by user\n",
    "        candidate_ratings = sim_user_ratings[(sim_user_ratings > 0) & (~sim_user_ratings.index.isin(user_movies))]\n",
    "        # Weight by similarity score and accumulate\n",
    "        weighted_scores = weighted_scores.add(candidate_ratings * score, fill_value=0)\n",
    "\n",
    "    if weighted_scores.empty:\n",
    "        return []\n",
    "\n",
    "    # Pick top_n movies by weighted score\n",
    "    top_movies = weighted_scores.sort_values(ascending=False).head(top_n).index\n",
    "    titles = df_movies[df_movies['imdb_id'].isin(top_movies)]['title'].tolist()\n",
    "\n",
    "    return titles\n",
    "\n",
    "\n",
    "print(\"\\n=== Weighted User-Based Collaborative Filtering (User 7) ===\")\n",
    "print(recommend_for_user_weighted(7, top_n=5))"
   ]
  },
  {
   "cell_type": "code",
   "execution_count": 5,
   "id": "d66b616bc835598b",
   "metadata": {
    "ExecuteTime": {
     "end_time": "2025-06-07T16:01:11.274224500Z",
     "start_time": "2025-06-07T14:40:10.213150Z"
    }
   },
   "outputs": [
    {
     "name": "stdout",
     "output_type": "stream",
     "text": [
      "Evaluating RMSE, MAE of algorithm SVD on 3 split(s).\n",
      "\n",
      "                  Fold 1  Fold 2  Fold 3  Mean    Std     \n",
      "RMSE (testset)    0.9648  0.9644  0.9651  0.9648  0.0003  \n",
      "MAE (testset)     0.7414  0.7307  0.7391  0.7371  0.0046  \n",
      "Fit time          0.01    0.01    0.01    0.01    0.00    \n",
      "Test time         0.00    0.00    0.00    0.00    0.00    \n",
      "\n",
      "=== SVD Recommendations for User 707 ===\n",
      "[\"Le fabuleux destin d'Amélie Poulain\", 'The Lord of the Rings: The Fellowship of the Ring', 'The Lord of the Rings: The Two Towers', 'Mulholland Dr.', 'Amores perros']\n"
     ]
    }
   ],
   "source": [
    "# ========= PREPARE DATA FOR SURPRISE SVD =========\n",
    "\n",
    "# Set index name for resetting\n",
    "df_ratings.index.name = 'userId'\n",
    "df_ratings_long = df_ratings.reset_index().melt(id_vars='userId', var_name='imdb_id', value_name='rating')\n",
    "\n",
    "# Drop zero or missing ratings (Surprise needs explicit ratings)\n",
    "df_ratings_long = df_ratings_long[df_ratings_long['rating'] > 0]\n",
    "\n",
    "# Convert IDs to strings (Surprise prefers string IDs)\n",
    "df_ratings_long['userId'] = df_ratings_long['userId'].astype(str)\n",
    "df_ratings_long['imdb_id'] = df_ratings_long['imdb_id'].astype(str)\n",
    "\n",
    "# Prepare Surprise Dataset\n",
    "reader = Reader(rating_scale=(df_ratings_long['rating'].min(), df_ratings_long['rating'].max()))\n",
    "data = Dataset.load_from_df(df_ratings_long[['userId', 'imdb_id', 'rating']], reader)\n",
    "\n",
    "# Train-test split\n",
    "trainset, testset = train_test_split(data, test_size=0.2, random_state=42)\n",
    "\n",
    "# Train SVD algorithm with basic parameters (tune for better performance)\n",
    "algo = SVD(n_factors=50, n_epochs=20, random_state=42)\n",
    "algo.fit(trainset)\n",
    "\n",
    "# Cross-validation RMSE/MAE (optional)\n",
    "cv_results = cross_validate(algo, data, measures=['RMSE', 'MAE'], cv=3, verbose=True)\n",
    "\n",
    "\n",
    "def get_movie_title(movie_id):\n",
    "    \"\"\"Return movie title for given imdb_id or 'Unknown Title'.\"\"\"\n",
    "    result = df_movies[df_movies['imdb_id'] == movie_id]['title']\n",
    "    return result.values[0] if not result.empty else \"Unknown Title\"\n",
    "\n",
    "\n",
    "def svd_recommend(user_id, top_n=5):\n",
    "    \"\"\"\n",
    "    Recommend movies using trained SVD model for a given user.\n",
    "\n",
    "    Parameters:\n",
    "        user_id (int or str): User ID to recommend movies for.\n",
    "        top_n (int): Number of recommendations.\n",
    "\n",
    "    Returns:\n",
    "        list: Titles of recommended movies.\n",
    "    \"\"\"\n",
    "    user_id = str(user_id)\n",
    "\n",
    "    # Movies the user has already rated\n",
    "    seen_movies = set(df_ratings_long[df_ratings_long['userId'] == user_id]['imdb_id'])\n",
    "\n",
    "    # Candidate movies: all movies user hasn't rated\n",
    "    all_movies = set(df_ratings_long['imdb_id'].unique())\n",
    "    unseen_movies = all_movies - seen_movies\n",
    "\n",
    "    # Predict ratings for unseen movies\n",
    "    predictions = [algo.predict(user_id, movie_id) for movie_id in unseen_movies]\n",
    "\n",
    "    # Sort by estimated rating descending\n",
    "    top_predictions = sorted(predictions, key=lambda x: x.est, reverse=True)[:top_n]\n",
    "\n",
    "    recommended_titles = [get_movie_title(pred.iid) for pred in top_predictions]\n",
    "\n",
    "    return recommended_titles\n",
    "\n",
    "\n",
    "test_user_id = df_ratings_long['userId'].iloc[0]  # Example user from dataset\n",
    "print(f\"\\n=== SVD Recommendations for User {test_user_id} ===\")\n",
    "print(svd_recommend(test_user_id, top_n=5))\n"
   ]
  }
 ],
 "metadata": {
  "kernelspec": {
   "display_name": "Python 3 (ipykernel)",
   "language": "python",
   "name": "python3"
  },
  "language_info": {
   "codemirror_mode": {
    "name": "ipython",
    "version": 3
   },
   "file_extension": ".py",
   "mimetype": "text/x-python",
   "name": "python",
   "nbconvert_exporter": "python",
   "pygments_lexer": "ipython3",
   "version": "3.12.10"
  }
 },
 "nbformat": 4,
 "nbformat_minor": 5
}
