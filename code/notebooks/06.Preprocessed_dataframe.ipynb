{
 "cells": [
  {
   "cell_type": "code",
   "id": "initial_id",
   "metadata": {
    "ExecuteTime": {
     "end_time": "2025-06-07T12:27:05.739915Z",
     "start_time": "2025-06-07T12:27:03.966648Z"
    }
   },
   "source": [
    "import os\n",
    "import pandas as pd\n",
    "import ast\n",
    "import joblib"
   ],
   "outputs": [],
   "execution_count": 1
  },
  {
   "cell_type": "code",
   "id": "fdfc70bbea7588be",
   "metadata": {
    "ExecuteTime": {
     "end_time": "2025-06-07T12:35:10.681867Z",
     "start_time": "2025-06-07T12:32:57.459127Z"
    }
   },
   "source": [
    "# ========= LOAD CLEANED DATA =========\n",
    "DATA_DIR = os.path.join('..', '..', 'data', 'cleaned')\n",
    "TARGET_DATA_DIR = os.path.join('..', '..', 'data', 'cleaned', 'joblib_dataframes')\n",
    "\n",
    "user_ratings = pd.read_csv(os.path.join(DATA_DIR, 'dim_movie_user_ratings.csv'))\n",
    "fact_movies = pd.read_csv(os.path.join(DATA_DIR, 'fact_movies.csv'))\n",
    "titles = pd.read_csv(os.path.join(DATA_DIR, 'dim_movie_titles.csv'))\n",
    "calendar = pd.read_csv(os.path.join(DATA_DIR, 'dim_movie_calendar.csv'))\n",
    "\n",
    "# ========= STANDARDIZE IDs =========\n",
    "for df in [user_ratings, fact_movies, titles]:\n",
    "    for col in ['imdbId', 'movie_imdb_id']:\n",
    "        if col in df.columns:\n",
    "            df[col] = df[col].astype(str).str.strip().str.lower().str.replace('tt', '', regex=False)\n",
    "\n",
    "user_ratings['movie_imdb_id'] = user_ratings['imdbId']\n",
    "\n",
    "# ========= MERGE USER RATINGS WITH MOVIE INFO =========\n",
    "df = user_ratings.merge(fact_movies, on='movie_imdb_id', how='left') \\\n",
    "                 .merge(titles, on='movie_imdb_id', how='left') \\\n",
    "                 .merge(calendar, left_on='movie_release_date_id', right_on='date_id', how='left')\n",
    "df = df[df['movie_title'].notna()].copy()\n",
    "\n",
    "# ========= HELPER FUNCTION TO LOAD GROUPED METADATA =========\n",
    "def load_grouped_metadata(bridge_file, dim_file, fact_key, bridge_key, dim_key, new_column):\n",
    "    bridge_df = pd.read_csv(os.path.join(DATA_DIR, bridge_file))\n",
    "    dim_df = pd.read_csv(os.path.join(DATA_DIR, dim_file))\n",
    "\n",
    "    bridge_df = bridge_df.rename(columns={bridge_key: dim_key})\n",
    "    bridge_df[fact_key] = bridge_df[fact_key].astype(str).str.strip().str.lower().str.replace('tt', '', regex=False)\n",
    "    merged = bridge_df.merge(dim_df, on=dim_key, how='left')\n",
    "\n",
    "    grouped = merged.groupby(fact_key)[dim_key].apply(lambda x: list(x.dropna().unique())).reset_index()\n",
    "    grouped.rename(columns={dim_key: new_column}, inplace=True)\n",
    "\n",
    "    return grouped\n",
    "\n",
    "# ========= LOAD METADATA =========\n",
    "actors     = load_grouped_metadata('bridge_fact_movies_dim_movie_actors.csv',     'dim_movie_actors.csv',     'movie_imdb_id', 'movie_person_name_id', 'actor_name_id',    'actors')\n",
    "directors  = load_grouped_metadata('bridge_fact_movies_dim_movie_directors.csv',  'dim_movie_directors.csv',  'movie_imdb_id', 'movie_person_name_id', 'director_name_id', 'directors')\n",
    "producers  = load_grouped_metadata('bridge_fact_movies_dim_movie_producers.csv',  'dim_movie_producers.csv',  'movie_imdb_id', 'movie_person_name_id', 'producer_name_id', 'producers')\n",
    "writers    = load_grouped_metadata('bridge_fact_movies_dim_movie_writers.csv',    'dim_movie_writers.csv',    'movie_imdb_id', 'movie_person_name_id', 'writer_name_id',   'writers')\n",
    "categories = load_grouped_metadata('bridge_fact_movies_dim_movie_categories.csv', 'dim_movie_categories.csv', 'movie_imdb_id', 'movie_category_id',    'movie_category_id','categories')\n",
    "\n",
    "# ========= AGGREGATE USER DATA =========\n",
    "user_ids_grouped     = df.groupby('movie_imdb_id')['userId'].apply(list).reset_index()\n",
    "rating_ids_grouped   = df.groupby('movie_imdb_id')['ratingId'].apply(list).reset_index()\n",
    "ratings_grouped      = df.groupby('movie_imdb_id')['rating'].apply(list).reset_index()\n",
    "\n",
    "df_non_duplicated = df.drop_duplicates('movie_imdb_id')[[\n",
    "    'movie_imdb_id', 'movie_title', 'movie_budget_$', 'movie_box_office_$',\n",
    "    'movie_duration_minutes', 'movie_release_date_x'\n",
    "]]\n",
    "\n",
    "# ========= MERGE ALL GROUPED METADATA INTO FINAL DF =========\n",
    "df_final = df_non_duplicated \\\n",
    "    .merge(user_ids_grouped, on='movie_imdb_id', how='left') \\\n",
    "    .merge(rating_ids_grouped, on='movie_imdb_id', how='left') \\\n",
    "    .merge(ratings_grouped, on='movie_imdb_id', how='left') \\\n",
    "    .merge(actors, on='movie_imdb_id', how='left') \\\n",
    "    .merge(directors, on='movie_imdb_id', how='left') \\\n",
    "    .merge(producers, on='movie_imdb_id', how='left') \\\n",
    "    .merge(writers, on='movie_imdb_id', how='left') \\\n",
    "    .merge(categories, on='movie_imdb_id', how='left')\n",
    "\n",
    "# ========= RENAME COLUMNS =========\n",
    "df_final.rename(columns={\n",
    "    'movie_imdb_id': 'imdb_id',\n",
    "    'movie_title': 'title',\n",
    "    'movie_budget_$': 'budget_$',\n",
    "    'movie_box_office_$': 'box_office_$',\n",
    "    'movie_duration_minutes': 'duration_minutes',\n",
    "    'movie_release_date_x': 'release_date',\n",
    "    'userId': 'user_ids',\n",
    "    'ratingId': 'user_rating_ids',\n",
    "    'rating': 'users_ratings'\n",
    "}, inplace=True)\n",
    "\n",
    "# ========= CONVERT STRINGS TO LISTS =========\n",
    "df_final['user_ids'] = df_final['user_ids'].apply(lambda x: ast.literal_eval(x) if isinstance(x, str) else x)\n",
    "df_final['users_ratings'] = df_final['users_ratings'].apply(lambda x: ast.literal_eval(x) if isinstance(x, str) else x)\n",
    "\n",
    "# ========= EXPLODE USER-MOVIE RATINGS FOR MODELING =========\n",
    "df_exploded = df_final[['imdb_id', 'user_ids', 'users_ratings']].explode(['user_ids', 'users_ratings'])\n",
    "\n",
    "df_final_matrix = df_exploded.pivot_table(index='user_ids', columns='imdb_id', values='users_ratings')\n",
    "df_final_matrix = df_final_matrix.fillna('')\n",
    "\n",
    "# ========= OUTPUT =========\n",
    "print(\"Preprocessing complete. The dataframes are:\")\n",
    "print(\"df_final (one row per movie):\", df_final.shape)\n",
    "print(\"df_final_matrix (one row per user_id):\", df_final_matrix.shape)\n",
    "\n",
    "joblib.dump(df_final, os.path.join(TARGET_DATA_DIR, \"df_final.joblib\"))\n",
    "joblib.dump(df_final_matrix, os.path.join(TARGET_DATA_DIR, \"df_final_matrix.joblib\"))"
   ],
   "outputs": [
    {
     "name": "stdout",
     "output_type": "stream",
     "text": [
      "Preprocessing complete. The dataframes are:\n",
      "df_final (one row per movie): (5002, 14)\n",
      "df_final_matrix (one row per user_id): (31486, 5002)\n",
      "<class 'pandas.core.frame.DataFrame'>\n",
      "RangeIndex: 5002 entries, 0 to 5001\n",
      "Data columns (total 14 columns):\n",
      " #   Column            Non-Null Count  Dtype  \n",
      "---  ------            --------------  -----  \n",
      " 0   imdb_id           5002 non-null   object \n",
      " 1   title             5002 non-null   object \n",
      " 2   budget_$          2902 non-null   float64\n",
      " 3   box_office_$      3251 non-null   float64\n",
      " 4   duration_minutes  5002 non-null   float64\n",
      " 5   release_date      5002 non-null   object \n",
      " 6   user_ids          5002 non-null   object \n",
      " 7   user_rating_ids   5002 non-null   object \n",
      " 8   users_ratings     5002 non-null   object \n",
      " 9   actors            4762 non-null   object \n",
      " 10  directors         4998 non-null   object \n",
      " 11  producers         4934 non-null   object \n",
      " 12  writers           4882 non-null   object \n",
      " 13  categories        5002 non-null   object \n",
      "dtypes: float64(3), object(11)\n",
      "memory usage: 547.2+ KB\n"
     ]
    },
    {
     "data": {
      "text/plain": [
       "['../../data/cleaned/joblib_dataframes/df_final_matrix.joblib']"
      ]
     },
     "execution_count": 3,
     "metadata": {},
     "output_type": "execute_result"
    }
   ],
   "execution_count": 3
  }
 ],
 "metadata": {
  "kernelspec": {
   "display_name": "Python 3 (ipykernel)",
   "language": "python",
   "name": "python3"
  },
  "language_info": {
   "codemirror_mode": {
    "name": "ipython",
    "version": 3
   },
   "file_extension": ".py",
   "mimetype": "text/x-python",
   "name": "python",
   "nbconvert_exporter": "python",
   "pygments_lexer": "ipython3",
   "version": "3.12.10"
  }
 },
 "nbformat": 4,
 "nbformat_minor": 5
}
